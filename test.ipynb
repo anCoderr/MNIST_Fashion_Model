{
 "cells": [
  {
   "cell_type": "code",
   "execution_count": 1,
   "metadata": {
    "collapsed": true,
    "pycharm": {
     "name": "#%%\n"
    }
   },
   "outputs": [],
   "source": [
    "import torch"
   ]
  },
  {
   "cell_type": "code",
   "execution_count": 7,
   "outputs": [],
   "source": [
    "x = torch.tensor([[[1,2,3],\n",
    "                   [4,5,6]],[[7,8,9],\n",
    "                             [10,11,12]],[[13,14,15],\n",
    "                                          [16,17,18]],[[19,20,21],\n",
    "                                                       [22,23,24]],])"
   ],
   "metadata": {
    "collapsed": false,
    "pycharm": {
     "name": "#%%\n"
    }
   }
  },
  {
   "cell_type": "code",
   "execution_count": 11,
   "outputs": [
    {
     "name": "stdout",
     "output_type": "stream",
     "text": [
      "tensor([[[[ 1,  2],\n",
      "          [ 3,  4]],\n",
      "\n",
      "         [[ 5,  6],\n",
      "          [ 7,  8]],\n",
      "\n",
      "         [[ 9, 10],\n",
      "          [11, 12]]],\n",
      "\n",
      "\n",
      "        [[[13, 14],\n",
      "          [15, 16]],\n",
      "\n",
      "         [[17, 18],\n",
      "          [19, 20]],\n",
      "\n",
      "         [[21, 22],\n",
      "          [23, 24]]]])\n"
     ]
    }
   ],
   "source": [
    "# print(torch.reshape(x,[-1]))\n",
    "# print(torch.reshape(x,[2,-1]))\n",
    "# print(torch.reshape(x,[2,3,-1]))\n",
    "print(torch.reshape(x,[2,3,2,-1]))"
   ],
   "metadata": {
    "collapsed": false,
    "pycharm": {
     "name": "#%%\n"
    }
   }
  },
  {
   "cell_type": "code",
   "execution_count": null,
   "outputs": [],
   "source": [],
   "metadata": {
    "collapsed": false,
    "pycharm": {
     "name": "#%%\n"
    }
   }
  }
 ],
 "metadata": {
  "kernelspec": {
   "display_name": "Python 3",
   "language": "python",
   "name": "python3"
  },
  "language_info": {
   "codemirror_mode": {
    "name": "ipython",
    "version": 2
   },
   "file_extension": ".py",
   "mimetype": "text/x-python",
   "name": "python",
   "nbconvert_exporter": "python",
   "pygments_lexer": "ipython2",
   "version": "2.7.6"
  }
 },
 "nbformat": 4,
 "nbformat_minor": 0
}