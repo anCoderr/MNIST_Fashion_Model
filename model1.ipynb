{
 "cells": [
  {
   "cell_type": "code",
   "execution_count": 78,
   "metadata": {
    "collapsed": true
   },
   "outputs": [],
   "source": [
    "import torch\n",
    "import pandas as pd\n",
    "import torch.nn as nn\n",
    "import torch.optim as optim\n",
    "from torch.utils.data import TensorDataset, DataLoader\n",
    "import torch.nn.functional as F\n",
    "import matplotlib.pyplot as plt\n",
    "from torch.utils.data import DataLoader\n",
    "import torchvision.datasets as datasets\n",
    "import torchvision.transforms as transforms"
   ]
  },
  {
   "cell_type": "code",
   "execution_count": 79,
   "outputs": [],
   "source": [
    "input_size = 784\n",
    "output_size = 10\n",
    "learning_rate = 0.001\n",
    "batch_size = 64\n",
    "epochs = 20"
   ],
   "metadata": {
    "collapsed": false,
    "pycharm": {
     "name": "#%%\n"
    }
   }
  },
  {
   "cell_type": "code",
   "execution_count": 80,
   "outputs": [],
   "source": [
    "# train_data = pd.read_csv('Data/fashion-mnist_train.csv')\n",
    "# test_data = pd.read_csv('Data/fashion-mnist_train.csv')\n",
    "train_data = pd.read_csv('Data/train.csv')\n",
    "test_data = pd.read_csv('Data/test.csv')"
   ],
   "metadata": {
    "collapsed": false,
    "pycharm": {
     "name": "#%%\n"
    }
   }
  },
  {
   "cell_type": "code",
   "execution_count": 81,
   "outputs": [],
   "source": [
    "x_train = train_data.drop('label',axis=1).values\n",
    "y_train = train_data['label'].values\n",
    "x_test = test_data.drop('id',axis=1).values"
   ],
   "metadata": {
    "collapsed": false,
    "pycharm": {
     "name": "#%%\n"
    }
   }
  },
  {
   "cell_type": "code",
   "execution_count": 82,
   "outputs": [],
   "source": [
    "train_dataset = TensorDataset(torch.FloatTensor(x_train), torch.LongTensor(y_train))\n",
    "train_dataloader = DataLoader(dataset=train_dataset, batch_size=batch_size, shuffle=True)"
   ],
   "metadata": {
    "collapsed": false,
    "pycharm": {
     "name": "#%%\n"
    }
   }
  },
  {
   "cell_type": "code",
   "execution_count": 83,
   "outputs": [],
   "source": [
    "class Model(nn.Module):\n",
    "    def __init__(self, input_size, output_size):\n",
    "        super(Model,self).__init__()\n",
    "        self.fc1 = nn.Linear(input_size, 200)\n",
    "        self.fc2 = nn.Linear(200, 100)\n",
    "        self.fc3 = nn.Linear(100, output_size)\n",
    "\n",
    "    def forward(self, x):\n",
    "        x = self.fc1(x)\n",
    "        x = F.relu(x)\n",
    "        x = self.fc2(x)\n",
    "        x = F.relu(x)\n",
    "        x = self.fc3(x)\n",
    "        return x"
   ],
   "metadata": {
    "collapsed": false,
    "pycharm": {
     "name": "#%%\n"
    }
   }
  },
  {
   "cell_type": "code",
   "execution_count": 84,
   "outputs": [],
   "source": [
    "model = Model(input_size, output_size)\n",
    "criterion = nn.CrossEntropyLoss()\n",
    "optimizer = torch.optim.Adam(model.parameters(), lr=learning_rate)"
   ],
   "metadata": {
    "collapsed": false,
    "pycharm": {
     "name": "#%%\n"
    }
   }
  },
  {
   "cell_type": "code",
   "execution_count": 85,
   "outputs": [],
   "source": [
    "def check_accuracy(data_loader, model):\n",
    "\n",
    "    correct = 0\n",
    "    samples = 0\n",
    "    model.eval()\n",
    "    for batch_index, (x, y) in enumerate(data_loader):\n",
    "        y_pred = model(x)\n",
    "        _, y_pred = torch.max(y_pred, dim=1)\n",
    "        correct += torch.sum(y_pred == y)\n",
    "        samples += x.shape[0]\n",
    "\n",
    "    print(f'Accuracy is {correct} / {samples} = {(correct/samples)*100:.2f}')\n",
    "    model.train()"
   ],
   "metadata": {
    "collapsed": false,
    "pycharm": {
     "name": "#%%\n"
    }
   }
  },
  {
   "cell_type": "code",
   "execution_count": 86,
   "outputs": [
    {
     "name": "stdout",
     "output_type": "stream",
     "text": [
      "Accuracy is 6213 / 60000 = 10.36\n",
      "Epoch: 0 and Loss: 0.198121\n",
      "Accuracy is 58555 / 60000 = 97.59\n",
      "Epoch: 1 and Loss: 0.066502\n",
      "Accuracy is 58851 / 60000 = 98.08\n",
      "Epoch: 2 and Loss: 0.051098\n",
      "Accuracy is 59388 / 60000 = 98.98\n",
      "Epoch: 3 and Loss: 0.045478\n",
      "Accuracy is 59356 / 60000 = 98.93\n",
      "Epoch: 4 and Loss: 0.037862\n",
      "Accuracy is 59429 / 60000 = 99.05\n",
      "Epoch: 5 and Loss: 0.036743\n",
      "Accuracy is 59602 / 60000 = 99.34\n",
      "Epoch: 6 and Loss: 0.034622\n",
      "Accuracy is 59712 / 60000 = 99.52\n",
      "Epoch: 7 and Loss: 0.030743\n",
      "Accuracy is 59580 / 60000 = 99.30\n",
      "Epoch: 8 and Loss: 0.02598\n",
      "Accuracy is 59701 / 60000 = 99.50\n",
      "Epoch: 9 and Loss: 0.031313\n",
      "Accuracy is 59700 / 60000 = 99.50\n",
      "Epoch: 10 and Loss: 0.022971\n",
      "Accuracy is 59731 / 60000 = 99.55\n",
      "Epoch: 11 and Loss: 0.025723\n",
      "Accuracy is 59621 / 60000 = 99.37\n",
      "Epoch: 12 and Loss: 0.023634\n",
      "Accuracy is 59605 / 60000 = 99.34\n",
      "Epoch: 13 and Loss: 0.020327\n",
      "Accuracy is 59715 / 60000 = 99.53\n",
      "Epoch: 14 and Loss: 0.019035\n",
      "Accuracy is 59764 / 60000 = 99.61\n",
      "Epoch: 15 and Loss: 0.025403\n",
      "Accuracy is 59616 / 60000 = 99.36\n",
      "Epoch: 16 and Loss: 0.020236\n",
      "Accuracy is 59681 / 60000 = 99.47\n",
      "Epoch: 17 and Loss: 0.017017\n",
      "Accuracy is 59736 / 60000 = 99.56\n",
      "Epoch: 18 and Loss: 0.014828\n",
      "Accuracy is 59892 / 60000 = 99.82\n",
      "Epoch: 19 and Loss: 0.013348\n"
     ]
    }
   ],
   "source": [
    "losses = []\n",
    "\n",
    "for epoch in range(epochs):\n",
    "    batch_count = 0\n",
    "    total_loss = 0\n",
    "\n",
    "    check_accuracy(train_dataloader, model)\n",
    "\n",
    "    for batch_index, (x, y) in enumerate(train_dataloader):\n",
    "\n",
    "        y_pred = model(x)\n",
    "        loss = criterion(y_pred, y)\n",
    "\n",
    "        total_loss += loss.item()\n",
    "        batch_count += 1\n",
    "\n",
    "        optimizer.zero_grad()\n",
    "        loss.backward()\n",
    "        optimizer.step()\n",
    "\n",
    "    avg_loss = round(total_loss / batch_count, 6)\n",
    "\n",
    "    print(f'Epoch: {epoch} and Loss: {avg_loss}')\n",
    "\n",
    "    losses.append(avg_loss)"
   ],
   "metadata": {
    "collapsed": false,
    "pycharm": {
     "name": "#%%\n"
    }
   }
  },
  {
   "cell_type": "code",
   "execution_count": 87,
   "outputs": [
    {
     "data": {
      "text/plain": "Text(0.5, 0, 'Epochs')"
     },
     "execution_count": 87,
     "metadata": {},
     "output_type": "execute_result"
    },
    {
     "data": {
      "text/plain": "<Figure size 432x288 with 1 Axes>",
      "image/png": "[encoded data removed]"
     },
     "metadata": {
      "needs_background": "light"
     },
     "output_type": "display_data"
    }
   ],
   "source": [
    "plt.plot(range(epochs), losses)\n",
    "plt.ylabel('Losses')\n",
    "plt.xlabel('Epochs')"
   ],
   "metadata": {
    "collapsed": false,
    "pycharm": {
     "name": "#%%\n"
    }
   }
  },
  {
   "cell_type": "code",
   "execution_count": 88,
   "outputs": [
    {
     "name": "stdout",
     "output_type": "stream",
     "text": [
      "<class 'numpy.ndarray'>\n",
      "(5000, 784)\n"
     ]
    }
   ],
   "source": [
    "print(type(x_test))\n",
    "print(x_test.shape)"
   ],
   "metadata": {
    "collapsed": false,
    "pycharm": {
     "name": "#%%\n"
    }
   }
  },
  {
   "cell_type": "code",
   "execution_count": 89,
   "outputs": [],
   "source": [
    "x_test = torch.FloatTensor(x_test)"
   ],
   "metadata": {
    "collapsed": false,
    "pycharm": {
     "name": "#%%\n"
    }
   }
  },
  {
   "cell_type": "code",
   "execution_count": 90,
   "outputs": [],
   "source": [
    "y_test = model(x_test)\n",
    "y_test = torch.argmax(y_test, dim=1)"
   ],
   "metadata": {
    "collapsed": false,
    "pycharm": {
     "name": "#%%\n"
    }
   }
  },
  {
   "cell_type": "code",
   "execution_count": 91,
   "outputs": [],
   "source": [
    "op = pd.DataFrame(y_test.detach().numpy())"
   ],
   "metadata": {
    "collapsed": false,
    "pycharm": {
     "name": "#%%\n"
    }
   }
  },
  {
   "cell_type": "code",
   "execution_count": 92,
   "outputs": [
    {
     "data": {
      "text/plain": "   0\n0  3\n1  0\n2  2\n3  6\n4  7",
      "text/html": "<div>\n<style scoped>\n    .dataframe tbody tr th:only-of-type {\n        vertical-align: middle;\n    }\n\n    .dataframe tbody tr th {\n        vertical-align: top;\n    }\n\n    .dataframe thead th {\n        text-align: right;\n    }\n</style>\n<table border=\"1\" class=\"dataframe\">\n  <thead>\n    <tr style=\"text-align: right;\">\n      <th></th>\n      <th>0</th>\n    </tr>\n  </thead>\n  <tbody>\n    <tr>\n      <th>0</th>\n      <td>3</td>\n    </tr>\n    <tr>\n      <th>1</th>\n      <td>0</td>\n    </tr>\n    <tr>\n      <th>2</th>\n      <td>2</td>\n    </tr>\n    <tr>\n      <th>3</th>\n      <td>6</td>\n    </tr>\n    <tr>\n      <th>4</th>\n      <td>7</td>\n    </tr>\n  </tbody>\n</table>\n</div>"
     },
     "execution_count": 92,
     "metadata": {},
     "output_type": "execute_result"
    }
   ],
   "source": [
    "op.head()"
   ],
   "metadata": {
    "collapsed": false,
    "pycharm": {
     "name": "#%%\n"
    }
   }
  },
  {
   "cell_type": "code",
   "execution_count": 93,
   "outputs": [],
   "source": [
    "op.rename(columns={0 :'label'}, inplace=True )\n",
    "op['id'] = op.index\n",
    "op = op[['id','label']]"
   ],
   "metadata": {
    "collapsed": false,
    "pycharm": {
     "name": "#%%\n"
    }
   }
  },
  {
   "cell_type": "code",
   "execution_count": 94,
   "outputs": [],
   "source": [
    "op.to_csv('output.csv', index=False, header=True)"
   ],
   "metadata": {
    "collapsed": false,
    "pycharm": {
     "name": "#%%\n"
    }
   }
  },
  {
   "cell_type": "code",
   "execution_count": 94,
   "outputs": [],
   "source": [],
   "metadata": {
    "collapsed": false,
    "pycharm": {
     "name": "#%%\n"
    }
   }
  }
 ],
 "metadata": {
  "kernelspec": {
   "display_name": "Python 3",
   "language": "python",
   "name": "python3"
  },
  "language_info": {
   "codemirror_mode": {
    "name": "ipython",
    "version": 2
   },
   "file_extension": ".py",
   "mimetype": "text/x-python",
   "name": "python",
   "nbconvert_exporter": "python",
   "pygments_lexer": "ipython2",
   "version": "2.7.6"
  }
 },
 "nbformat": 4,
 "nbformat_minor": 0
}